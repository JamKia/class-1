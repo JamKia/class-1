{
  "nbformat": 4,
  "nbformat_minor": 0,
  "metadata": {
    "colab": {
      "name": "Class.ipny",
      "provenance": [],
      "collapsed_sections": [],
      "include_colab_link": true
    },
    "kernelspec": {
      "name": "python3",
      "display_name": "Python 3"
    }
  },
  "cells": [
    {
      "cell_type": "markdown",
      "metadata": {
        "id": "view-in-github",
        "colab_type": "text"
      },
      "source": [
        "<a href=\"https://colab.research.google.com/github/JamKia/class-1/blob/main/Class_ipny.ipynb\" target=\"_parent\"><img src=\"https://colab.research.google.com/assets/colab-badge.svg\" alt=\"Open In Colab\"/></a>"
      ]
    },
    {
      "metadata": {
        "id": "8G9DcQclE_YN"
      },
      "cell_type": "code",
      "source": [
        "class Figure:\n",
        "    pass"
      ],
      "execution_count": null,
      "outputs": []
    },
    {
      "metadata": {
        "id": "XxRyCBZhFNtD",
        "colab": {
          "base_uri": "https://localhost:8080/",
          "height": 34
        },
        "outputId": "809f4798-6a12-4872-c056-16d44460dafc"
      },
      "cell_type": "code",
      "source": [
        "print(Figure)"
      ],
      "execution_count": null,
      "outputs": [
        {
          "output_type": "stream",
          "text": [
            "<class '__main__.Figure'>\n"
          ],
          "name": "stdout"
        }
      ]
    },
    {
      "metadata": {
        "id": "0DDy7vHnFacQ"
      },
      "cell_type": "code",
      "source": [
        "class Figure:\n",
        "  \n",
        "  # class attribute\n",
        "  style = \"jump\"\n",
        "  \n",
        "  # instance attribute\n",
        "  def __init__(self, name, x_center, y_center, radius):\n",
        "    self.name = name\n",
        "    self.x_center = x_center\n",
        "    self.y_center = y_center\n",
        "    self.radius = radius\n",
        "  \n",
        "  # Methods\n",
        "  # Methods are  \"\"functions\"\"  defined inside the body of a class.\n",
        "  # They define the  \"\"behaviors\"\"  of an object.\n",
        "  def Method_coordinates(self):\n",
        "    return \"Coordinates of {} (x_center,y_center,radius) are as follows: \\n \\t ({},{},{})\".format(self.name, self.x_center, self.y_center, self.radius)"
      ],
      "execution_count": null,
      "outputs": []
    },
    {
      "metadata": {
        "id": "dJXKxQMwGiRc",
        "colab": {
          "base_uri": "https://localhost:8080/",
          "height": 34
        },
        "outputId": "d30632a7-b66e-4d26-a0c8-013842b93cfb"
      },
      "cell_type": "code",
      "source": [
        "print(Figure)"
      ],
      "execution_count": null,
      "outputs": [
        {
          "output_type": "stream",
          "text": [
            "<class '__main__.Figure'>\n"
          ],
          "name": "stdout"
        }
      ]
    },
    {
      "metadata": {
        "id": "45TXIsZIGlFr"
      },
      "cell_type": "code",
      "source": [
        "# instantiate the Parrot class\n",
        "\n",
        "fig_1 = Figure(\"fig_1\", 0,0,100)\n",
        "fig_2 = Figure(\"fig_2\",1000,1200,1000)\n"
      ],
      "execution_count": null,
      "outputs": []
    },
    {
      "metadata": {
        "id": "ZjFgLLvQHwLm",
        "colab": {
          "base_uri": "https://localhost:8080/",
          "height": 86
        },
        "outputId": "fec11428-68f0-4820-a1a9-f862fc6e1a4d"
      },
      "cell_type": "code",
      "source": [
        "#   \"\"\"class\"\"\"   attribute  is accessed by .__class__.\n",
        "\n",
        "print(\"Class attributes are same for all instances of a class. \\n\")\n",
        "\n",
        "print('{}   \"\"clas attribute\"\"  is {}'.format(fig_1.name,fig_1.__class__.style))\n",
        "print('{}   \"\"clas attribute\"\"  is {}'.format(fig_2.name,fig_2.__class__.style))"
      ],
      "execution_count": null,
      "outputs": [
        {
          "output_type": "stream",
          "text": [
            "Class attributes are same for all instances of a class. \n",
            "\n",
            "fig_1   \"\"clas attribute\"\"  is jump\n",
            "fig_2   \"\"clas attribute\"\"  is jump\n"
          ],
          "name": "stdout"
        }
      ]
    },
    {
      "metadata": {
        "id": "AxHcTpvXINnR",
        "colab": {
          "base_uri": "https://localhost:8080/",
          "height": 208
        },
        "outputId": "0224818f-6dfb-4f4c-b4c2-e058f46fa195"
      },
      "cell_type": "code",
      "source": [
        "#   \"\"\"instance\"\"\"   attribute  is accessed by:\n",
        "\n",
        "print(\"Instance attributes are different for every instance of a class.\\n\")\n",
        "\n",
        "print(\"{}\\'s x_center is {}\".format( fig_1.name, fig_1.x_center) )\n",
        "print(\"{}\\'s y_center is {}\".format( fig_1.name, fig_1.y_center) )\n",
        "print(\"{}\\'s radius is {}\".format( fig_1.name, fig_1.radius) )\n",
        "\n",
        "print('\\n############\\n')\n",
        "\n",
        "print(\"{}'s x_center is {}\".format( fig_2.name, fig_2.x_center) )\n",
        "print(\"{}'s y_center is {}\".format( fig_2.name, fig_2.y_center) )\n",
        "print(\"{}'s radius is {}\".format( fig_2.name, fig_2.radius) )"
      ],
      "execution_count": null,
      "outputs": [
        {
          "output_type": "stream",
          "text": [
            "Instance attributes are different for every instance of a class.\n",
            "\n",
            "fig_1's x_center is 0\n",
            "fig_1's y_center is 0\n",
            "fig_1's radius is 100\n",
            "\n",
            "############\n",
            "\n",
            "fig_2's x_center is 1000\n",
            "fig_2's y_center is 1200\n",
            "fig_2's radius is 1000\n"
          ],
          "name": "stdout"
        }
      ]
    },
    {
      "metadata": {
        "id": "7ekmTNEyK40S",
        "colab": {
          "base_uri": "https://localhost:8080/",
          "height": 86
        },
        "outputId": "e06c2405-14ef-4544-f657-dc6b4302d587"
      },
      "cell_type": "code",
      "source": [
        "# Methods\n",
        "# Methods are  \"\"functions\"\"  defined inside the body of a class.\n",
        "# They define the  \"\"behaviors\"\"  of an object.\n",
        "\n",
        "print(fig_1.Method_coordinates())\n",
        "print(fig_2.Method_coordinates())"
      ],
      "execution_count": null,
      "outputs": [
        {
          "output_type": "stream",
          "text": [
            "Coordinates of fig_1 (x_center,y_center,radius) are as follows: \n",
            " \t (0,0,100)\n",
            "Coordinates of fig_2 (x_center,y_center,radius) are as follows: \n",
            " \t (1000,1200,1000)\n"
          ],
          "name": "stdout"
        }
      ]
    },
    {
      "metadata": {
        "id": "JOzQftVjQaR7"
      },
      "cell_type": "code",
      "source": [
        "################################################\n",
        "################################################\n",
        "################################################\n",
        "\n",
        "class Figure:\n",
        "  \n",
        "  # class attribute\n",
        "  style = \"jump\"\n",
        "  \n",
        "  # instance attribute\n",
        "  def __init__(self, name, x_center, y_center, radius):\n",
        "    self.name = name\n",
        "    self.x_center = x_center\n",
        "    self.y_center = y_center\n",
        "    self.radius = radius\n",
        "  \n",
        "  # Methods\n",
        "  # Methods are  \"\"functions\"\"  defined inside the body of a class.\n",
        "  # They define the  \"\"behaviors\"\"  of an object.\n",
        "  def Method_coordinates(self):\n",
        "    return \"Coordinates of {} (x_center,y_center,radius) are as follows: \\n \\t ({},{},{})\".format(self.name, self.x_center, self.y_center, self.radius)"
      ],
      "execution_count": null,
      "outputs": []
    },
    {
      "metadata": {
        "id": "qldtXhDPT-YK",
        "colab": {
          "base_uri": "https://localhost:8080/",
          "height": 358
        },
        "outputId": "05443586-1269-4e5b-b354-d69653ce2ef3"
      },
      "cell_type": "code",
      "source": [
        "#!/usr/local/bin/python3\n",
        "import numpy as np\n",
        "from PIL import Image, ImageDraw\n",
        "\n",
        "# Open the input image as numpy array, convert to RGB\n",
        "img=Image.open(\"\\home\\jamshid\\1.png\").convert(\"RGB\")\n",
        "npImage=np.array(img)\n",
        "h,w=img.size\n",
        "\n",
        "# Create same size alpha layer with circle\n",
        "alpha = Image.new('L', img.size,0)\n",
        "draw = ImageDraw.Draw(alpha)\n",
        "draw.pieslice([0,0,h,w],0,360,fill=255)\n",
        "\n",
        "# Convert alpha Image to numpy array\n",
        "npAlpha=np.array(alpha)\n",
        "\n",
        "# Add alpha layer to RGB\n",
        "npImage=np.dstack((npImage,npAlpha))\n",
        "\n",
        "# Save with alpha\n",
        "Image.fromarray(npImage).save('result.png')"
      ],
      "execution_count": null,
      "outputs": [
        {
          "output_type": "error",
          "ename": "FileNotFoundError",
          "evalue": "ignored",
          "traceback": [
            "\u001b[0;31m---------------------------------------------------------------------------\u001b[0m",
            "\u001b[0;31mFileNotFoundError\u001b[0m                         Traceback (most recent call last)",
            "\u001b[0;32m<ipython-input-44-987b5d816d4b>\u001b[0m in \u001b[0;36m<module>\u001b[0;34m()\u001b[0m\n\u001b[1;32m      3\u001b[0m \u001b[0;34m\u001b[0m\u001b[0m\n\u001b[1;32m      4\u001b[0m \u001b[0;31m# Open the input image as numpy array, convert to RGB\u001b[0m\u001b[0;34m\u001b[0m\u001b[0;34m\u001b[0m\u001b[0;34m\u001b[0m\u001b[0m\n\u001b[0;32m----> 5\u001b[0;31m \u001b[0mimg\u001b[0m\u001b[0;34m=\u001b[0m\u001b[0mImage\u001b[0m\u001b[0;34m.\u001b[0m\u001b[0mopen\u001b[0m\u001b[0;34m(\u001b[0m\u001b[0;34m\"\\home\\jamshid\\1.png\"\u001b[0m\u001b[0;34m)\u001b[0m\u001b[0;34m.\u001b[0m\u001b[0mconvert\u001b[0m\u001b[0;34m(\u001b[0m\u001b[0;34m\"RGB\"\u001b[0m\u001b[0;34m)\u001b[0m\u001b[0;34m\u001b[0m\u001b[0;34m\u001b[0m\u001b[0m\n\u001b[0m\u001b[1;32m      6\u001b[0m \u001b[0mnpImage\u001b[0m\u001b[0;34m=\u001b[0m\u001b[0mnp\u001b[0m\u001b[0;34m.\u001b[0m\u001b[0marray\u001b[0m\u001b[0;34m(\u001b[0m\u001b[0mimg\u001b[0m\u001b[0;34m)\u001b[0m\u001b[0;34m\u001b[0m\u001b[0;34m\u001b[0m\u001b[0m\n\u001b[1;32m      7\u001b[0m \u001b[0mh\u001b[0m\u001b[0;34m,\u001b[0m\u001b[0mw\u001b[0m\u001b[0;34m=\u001b[0m\u001b[0mimg\u001b[0m\u001b[0;34m.\u001b[0m\u001b[0msize\u001b[0m\u001b[0;34m\u001b[0m\u001b[0;34m\u001b[0m\u001b[0m\n",
            "\u001b[0;32m/usr/local/lib/python3.6/dist-packages/PIL/Image.py\u001b[0m in \u001b[0;36mopen\u001b[0;34m(fp, mode)\u001b[0m\n\u001b[1;32m   2408\u001b[0m \u001b[0;34m\u001b[0m\u001b[0m\n\u001b[1;32m   2409\u001b[0m     \u001b[0;32mif\u001b[0m \u001b[0mfilename\u001b[0m\u001b[0;34m:\u001b[0m\u001b[0;34m\u001b[0m\u001b[0;34m\u001b[0m\u001b[0m\n\u001b[0;32m-> 2410\u001b[0;31m         \u001b[0mfp\u001b[0m \u001b[0;34m=\u001b[0m \u001b[0mbuiltins\u001b[0m\u001b[0;34m.\u001b[0m\u001b[0mopen\u001b[0m\u001b[0;34m(\u001b[0m\u001b[0mfilename\u001b[0m\u001b[0;34m,\u001b[0m \u001b[0;34m\"rb\"\u001b[0m\u001b[0;34m)\u001b[0m\u001b[0;34m\u001b[0m\u001b[0;34m\u001b[0m\u001b[0m\n\u001b[0m\u001b[1;32m   2411\u001b[0m         \u001b[0mexclusive_fp\u001b[0m \u001b[0;34m=\u001b[0m \u001b[0;32mTrue\u001b[0m\u001b[0;34m\u001b[0m\u001b[0;34m\u001b[0m\u001b[0m\n\u001b[1;32m   2412\u001b[0m \u001b[0;34m\u001b[0m\u001b[0m\n",
            "\u001b[0;31mFileNotFoundError\u001b[0m: [Errno 2] No such file or directory: '\\\\home\\\\jamshid\\x01.png'"
          ]
        }
      ]
    },
    {
      "metadata": {
        "id": "lbtt3sOrUZm2"
      },
      "cell_type": "code",
      "source": [
        ""
      ],
      "execution_count": null,
      "outputs": []
    }
  ]
}